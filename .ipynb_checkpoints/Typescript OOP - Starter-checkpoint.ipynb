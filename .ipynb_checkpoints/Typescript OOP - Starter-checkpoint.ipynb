{
 "cells": [
  {
   "cell_type": "markdown",
   "metadata": {},
   "source": [
    "[Object Oriented Programming](#oop)<br>\n",
    "&emsp;[Classes](#classes)<br>\n",
    "&emsp;&emsp;[Read Only Properties](#rop)<br>\n",
    "&emsp;&emsp;[Optional Properties](#op)<br>\n",
    "&emsp;&emsp;[Access Modifiers](#access)<br>\n",
    "&emsp;&emsp;[Declaring Properties in Constructor](#conprop)<br>\n",
    "&emsp;&emsp;[Getters](#getter)<br>\n",
    "&emsp;&emsp;[Setters](#setter)<br>\n",
    "&emsp;&emsp;[Index Signatures](#idxsign)<br>\n",
    "&emsp;&emsp;[Static](#static)<br>\n",
    "&emsp;[Inheritance](#inherit)<br>\n",
    "&emsp;&emsp;[Method Overrides](#methover)<br>\n",
    "&emsp;&emsp;[Override Keyword](#overrride)<br>\n",
    "&emsp;&emsp;[Polymorphism](#polym)<br>\n",
    "&emsp;[Design Patterns](#dp)<br>\n",
    "&emsp;[Abstract Classes](#abs)<br>\n",
    "&emsp;&emsp;[Flying Ducks](#fly)<br>\n",
    "&emsp;&emsp;[Decoy Ducks](#decoy)<br>\n",
    "&emsp;&emsp;[Exercise #1](#ice1)<br>\n",
    "&emsp;[Interfaces](#interfaces)<br>\n",
    "&emsp;&emsp;[Exercise #2](#ice2)<br>\n",
    "&emsp;&emsp;[Rubber Duck / Final Pattern](#rubber)<br>\n",
    "&emsp;&emsp;[More On Polymorphism](#mpoly)<br>\n",
    "&emsp;&emsp;[Programming to Interface](#ptoi)<br>\n",
    "&emsp;&emsp;[Extending Interfaces](#xi)<br>\n",
    "[Generics](#gen)<br>\n",
    "&emsp;[Generic Functions](#gf)<br>\n",
    "&emsp;[Generic Classes](#gc)<br>\n",
    "&emsp;[Multiple Generics](#mg)<br>\n",
    "&emsp;[Generic Interfaces](#gi)<br>\n",
    "&emsp;[Generic Constraints](#gcon)<br>\n",
    "&emsp;[keyof](#keyof)<br>\n",
    "&emsp;[Type Mapping](#typemap)<br>\n",
    "&emsp;[Optional&lt;T&gt;](#optgen)<br>\n",
    "&emsp;[Read Only&lt;T&gt;](#rogen)<br>\n",
    "&emsp;[Built In Utility Classes](#util)<br>\n",
    "[Homework](#hw)<br>\n",
    "\n",
    "\n",
    "\n",
    "\n",
    "\n",
    "\n",
    "\n",
    "\n",
    "\n",
    "\n",
    "\n",
    "\n"
   ]
  },
  {
   "cell_type": "markdown",
   "metadata": {},
   "source": [
    "<a id=\"oop\"></a>\n",
    "# Object Oriented Programming"
   ]
  },
  {
   "cell_type": "markdown",
   "metadata": {},
   "source": [
    "Object-oriented programming (OOP) is a programming paradigm that focuses on the organization and manipulation of data as objects, rather than simply processing logic or functions. Good OOP practices involve designing reusable and extensible code by creating classes, interfaces, and abstract classes.\n",
    "\n",
    "While some programming languages like Java are purely OOP, others like Typescript combine OOP principles with scripting capabilities. In OOP, a model is designed to represent a real-life entity, and then that model is used to create different but similar objects. For example, a Car can be considered a model that defines the properties and behaviors of a generic car, and a specific car like a Ford Ranger can be an instance of that model that behaves like all other cars but may have its own unique characteristics."
   ]
  },
  {
   "cell_type": "markdown",
   "metadata": {},
   "source": [
    "<a id=\"classes\"></a>\n",
    "\n",
    "## Classes"
   ]
  },
  {
   "cell_type": "markdown",
   "metadata": {},
   "source": [
    "To define the types of your properties, you write them at the top of the class and then using the `this` keyword you can assign them in the constructor"
   ]
  },
  {
   "cell_type": "code",
   "execution_count": 2,
   "metadata": {},
   "outputs": [
    {
     "name": "stdout",
     "output_type": "stream",
     "text": [
      "Car { make: \u001b[32m'chevy'\u001b[39m, model: \u001b[32m'Lumina'\u001b[39m, year: \u001b[33m1997\u001b[39m }\n"
     ]
    }
   ],
   "source": [
    "class Car{\n",
    "//     defin types for properties\n",
    "    make: string\n",
    "    model:string\n",
    "    year: number\n",
    "    \n",
    "    constructor(make:string, model: string, year:number){\n",
    "//         assign properties\n",
    "        this.make =make\n",
    "        this.model =model\n",
    "        this.year = year\n",
    "    }\n",
    "    drive(miles:Number):void{\n",
    "        console.log(\"You drove \", miles, \"miles\")\n",
    "    }\n",
    "}\n",
    "let lumina=new Car(\"chevy\", \"Lumina\", 1997)\n",
    "lumina\n"
   ]
  },
  {
   "cell_type": "code",
   "execution_count": null,
   "metadata": {},
   "outputs": [],
   "source": []
  },
  {
   "cell_type": "markdown",
   "metadata": {},
   "source": [
    "<a id=\"rop\"></a>\n",
    "\n",
    "### Read Only Properties"
   ]
  },
  {
   "cell_type": "markdown",
   "metadata": {},
   "source": [
    "Since IDs should never change lets make a readonly ID on our Car Class"
   ]
  },
  {
   "cell_type": "code",
   "execution_count": 8,
   "metadata": {},
   "outputs": [],
   "source": [
    "class Car{\n",
    "    //define the types of the properties\n",
    "    readonly id:number\n",
    "    make: string\n",
    "    model: string\n",
    "    year: number\n",
    "    \n",
    "    constructor(id:number, make:string, model:string, year:number){\n",
    "//         assign propertied to object upon instantiation\n",
    "        this.id =id\n",
    "        this.make = make\n",
    "        this.model =model\n",
    "        this.year =year\n",
    "    }\n",
    "    \n",
    "    drive(miles:Number):void{\n",
    "        console.log(\"You drove \", miles, \"miles\")\n",
    "    }\n",
    "}\n",
    "    \n",
    "let delorean2=new Car(1, \"DeLorean\", \"DMC-12\", 1981)\n",
    "\n"
   ]
  },
  {
   "cell_type": "code",
   "execution_count": 9,
   "metadata": {},
   "outputs": [
    {
     "name": "stderr",
     "output_type": "stream",
     "text": [
      "1:11 - Cannot assign to 'id' because it is a read-only property.\n"
     ]
    }
   ],
   "source": [
    "delorean2.id=123"
   ]
  },
  {
   "cell_type": "markdown",
   "metadata": {},
   "source": [
    "<a id=\"op\"></a>\n",
    "\n",
    "### Optional Properties"
   ]
  },
  {
   "cell_type": "markdown",
   "metadata": {},
   "source": [
    "Lets give the car have an optional nickname like Kitt, or Herbie.  Not every car will have such a cool nickname"
   ]
  },
  {
   "cell_type": "code",
   "execution_count": 11,
   "metadata": {},
   "outputs": [],
   "source": [
    "class Car{\n",
    "    //define the types of the properties #after we setted we cannot changed it\n",
    "    //amd behaviour\n",
    "    //readonly cannnot be midified\n",
    "    readonly id:number\n",
    "    make: string\n",
    "    model: string\n",
    "    year: number\n",
    "    //? optional it may or may not be there\n",
    "    nickname?: string\n",
    "    \n",
    "    constructor(id:number, make:string, model:string, year:number, nickname:string=''){\n",
    "        // assign propertied to object upon instantiation\n",
    "        this.id =id\n",
    "        this.make = make\n",
    "        this.model =model\n",
    "        this.year =year\n",
    "        this.nickname = nickname\n",
    "    }\n",
    "    \n",
    "    drive(miles:Number):void{\n",
    "        console.log(\"You drove \", miles, \"miles\")\n",
    "    }\n",
    "}\n",
    "    \n",
    "let delorean3=new Car(1, \"DeLorean\", \"DMC-12\", 1981)\n"
   ]
  },
  {
   "cell_type": "code",
   "execution_count": 12,
   "metadata": {},
   "outputs": [
    {
     "name": "stdout",
     "output_type": "stream",
     "text": [
      "Car {\n",
      "  id: \u001b[33m1\u001b[39m,\n",
      "  make: \u001b[32m'DeLorean'\u001b[39m,\n",
      "  model: \u001b[32m'DMC-12'\u001b[39m,\n",
      "  year: \u001b[33m1981\u001b[39m,\n",
      "  nickname: \u001b[32m'The DeLorean'\u001b[39m\n",
      "}\n"
     ]
    }
   ],
   "source": [
    "delorean3.nickname=\"The DeLorean\"\n",
    "delorean3\n"
   ]
  },
  {
   "cell_type": "markdown",
   "metadata": {},
   "source": [
    "<a id=\"access\"></a>\n",
    "\n",
    "### Access Control keywords"
   ]
  },
  {
   "cell_type": "markdown",
   "metadata": {},
   "source": [
    "Access Control keywords are used in many languages, and TypeScript uses the most common three `public`, `protected`, `private`.  These access modifiers tell the computer what can access and modify the property/method.\n",
    "\n",
    "`public` -- this property is available  anywhere.  If no access modifier is used, the property defaults to public\n",
    "\n",
    "`protected` -- this property can be used within the class and within the derived classes, but not from outside the class\n",
    "\n",
    "`private`  -- this property can only be used from within the class that declared it.\n",
    "\n",
    "These access modifiers are the key to a concept known and <b>encapsulation</b>. This is basically the idea of data hiding to prevent properties from being modified or used by people/programs that it shouldn't be used by, or to control the modifications of these properties."
   ]
  },
  {
   "cell_type": "markdown",
   "metadata": {},
   "source": [
    "<b>Now</b> Lets assign some private and public access modifiers"
   ]
  },
  {
   "cell_type": "code",
   "execution_count": 8,
   "metadata": {},
   "outputs": [],
   "source": [
    "class Car{\n",
    "    //define the types of the properties\n",
    "    private readonly id:number\n",
    "    public make: string\n",
    "    public model: string\n",
    "    public year: number\n",
    "    public nickname?: string\n",
    "    \n",
    "    constructor(id:number, make: string, model: string, year: number){\n",
    "        //assign the properties\n",
    "        this.id=id\n",
    "        this.make=make\n",
    "        this.model=model\n",
    "        this.year=year\n",
    "    }\n",
    "    \n",
    "    drive(miles:Number):void{\n",
    "        console.log(\"You drove \", miles, \"miles\")\n",
    "    }\n",
    "    \n",
    "    printInfo():void{\n",
    "        console.log(`The Car id ${this.id} is a`,\n",
    "                    this.year,\n",
    "                    this.make,\n",
    "                    this.model,\n",
    "                    this.nickname ? \"that is called \" + this.nickname  : \" that has no cool name\")\n",
    "    }\n",
    "}\n",
    "    \n",
    "let delorean4=new Car(1,\"DeLorean\", \"DMC-12\", 1981)\n",
    "// delorean4.nickname=\"The Delorean\"\n",
    "\n"
   ]
  },
  {
   "cell_type": "markdown",
   "metadata": {},
   "source": [
    "Private variables cannot be access outside of the class"
   ]
  },
  {
   "cell_type": "code",
   "execution_count": 9,
   "metadata": {
    "scrolled": true
   },
   "outputs": [
    {
     "name": "stdout",
     "output_type": "stream",
     "text": [
      "The Car id 1 is a \u001b[33m1981\u001b[39m DeLorean DMC-12  that has no cool name\n"
     ]
    }
   ],
   "source": [
    "//Private Variable id prints here, because it was access by the class itself\n",
    "delorean4.printInfo()\n"
   ]
  },
  {
   "cell_type": "markdown",
   "metadata": {},
   "source": [
    "<a id=\"conprop\"></a>\n",
    "\n",
    "### Declaring Properties in the Constructor"
   ]
  },
  {
   "cell_type": "markdown",
   "metadata": {},
   "source": [
    "When passing values to our constructor we can give the parameters an access modifier and no longer declare them at the top of the document.  Optional properties will still need to be declared at the top.\n",
    "\n",
    "<b>Note: </b> Like in Python we will name our private properties with an underscore.  This is an older convention and many may argue it is not applicable anymore, often it's replaced with a `$` at the beginning of the variable name, or some custom convention.  Google and Apple style guide chastise the use of the `_` prefix, so in your applications do not use this `_` convention.  For this workbook to make things clear, we will use a prefix of `_` for private variables and a postfix of `$` for protected variables"
   ]
  },
  {
   "cell_type": "code",
   "execution_count": 11,
   "metadata": {},
   "outputs": [
    {
     "name": "stdout",
     "output_type": "stream",
     "text": [
      "The Car id 43 is a \u001b[33m1981\u001b[39m DeLorean DMC-12  that has no cool name\n"
     ]
    }
   ],
   "source": [
    "class Car{\n",
    "    //define the types of the properties\n",
    "//     public nickname?: string\n",
    "    \n",
    "    constructor(private readonly _id:number, //all in one go 3 steps one go\n",
    "                 public make: string,\n",
    "                 public model: string,\n",
    "                 public year: number){}\n",
    "                 private nickname ? : string\n",
    "    drive(miles:Number):void{\n",
    "        console.log(\"You drove \", miles, \"miles\")\n",
    "    }\n",
    "    \n",
    "    printInfo():void{\n",
    "        console.log(`The Car id ${this._id} is a`,\n",
    "                    this.year,\n",
    "                    this.make,\n",
    "                    this.model,\n",
    "                    this.nickname ? \"that is called \" + this.nickname  : \" that has no cool name\")\n",
    "    }\n",
    "}\n",
    "    \n",
    "let delorean4=new Car(43,\"DeLorean\", \"DMC-12\", 1981)\n",
    "// delorean4.nickname=\"The Delorean\"\n",
    "\n",
    "//Private Variable id prints here, because it was access by the class itself\n",
    "delorean4.printInfo()\n"
   ]
  },
  {
   "cell_type": "markdown",
   "metadata": {},
   "source": [
    "<a id=\"getter\"></a>\n",
    "\n",
    "### Getters"
   ]
  },
  {
   "cell_type": "markdown",
   "metadata": {},
   "source": [
    "We can access varaibles with a getter.  This helps us encapsulate the property while still allowing view access.  Using getters and setters in your classes is good practice and should always be employed in your classes."
   ]
  },
  {
   "cell_type": "markdown",
   "metadata": {},
   "source": [
    "In the following example we decided since a car's make and model can not be changed once it is made we will make those properties private, but the nickname of a car can be changed by anyone at anytime so we will make that public."
   ]
  },
  {
   "cell_type": "code",
   "execution_count": 19,
   "metadata": {},
   "outputs": [],
   "source": [
    "class Car{\n",
    "    constructor(private _make:string, private _model:string, public nickname:string){}\n",
    "    \n",
    "    get make():string {return this._make}\n",
    "    \n",
    "    get model():string{\n",
    "        //maybe we want to validate that there is a model before we send it back\n",
    "        if(this._model){\n",
    "            return this._model\n",
    "        }else{\n",
    "            return \"No Model Data\"\n",
    "        }\n",
    "    }\n",
    "    \n",
    "}\n"
   ]
  },
  {
   "cell_type": "code",
   "execution_count": 20,
   "metadata": {
    "scrolled": true
   },
   "outputs": [
    {
     "name": "stdout",
     "output_type": "stream",
     "text": [
      "Car { _make: \u001b[32m'Pontiac'\u001b[39m, _model: \u001b[32m''\u001b[39m, nickname: \u001b[32m'Kitt'\u001b[39m }\n"
     ]
    }
   ],
   "source": [
    "let knightRider = new Car(\"Pontiac\", \"\", \"Kitt\")\n",
    "knightRider\n"
   ]
  },
  {
   "cell_type": "code",
   "execution_count": 17,
   "metadata": {
    "scrolled": true
   },
   "outputs": [
    {
     "name": "stdout",
     "output_type": "stream",
     "text": [
      "Kitt\n"
     ]
    }
   ],
   "source": [
    "knightRider.nickname"
   ]
  },
  {
   "cell_type": "markdown",
   "metadata": {},
   "source": [
    "Public properties can be changed from outside the class"
   ]
  },
  {
   "cell_type": "code",
   "execution_count": 21,
   "metadata": {},
   "outputs": [
    {
     "name": "stdout",
     "output_type": "stream",
     "text": [
      "Kitt 2000\n"
     ]
    }
   ],
   "source": [
    "knightRider.nickname = \"Kitt 2000\""
   ]
  },
  {
   "cell_type": "code",
   "execution_count": 22,
   "metadata": {},
   "outputs": [
    {
     "name": "stdout",
     "output_type": "stream",
     "text": [
      "Kitt 2000\n"
     ]
    }
   ],
   "source": [
    "knightRider.nickname"
   ]
  },
  {
   "cell_type": "markdown",
   "metadata": {},
   "source": [
    "Private Properties can not be accessed outside the class"
   ]
  },
  {
   "cell_type": "code",
   "execution_count": 23,
   "metadata": {
    "scrolled": true
   },
   "outputs": [
    {
     "name": "stderr",
     "output_type": "stream",
     "text": [
      "1:13 - Property '_make' is private and only accessible within class 'Car'.\n"
     ]
    }
   ],
   "source": [
    "knightRider._make"
   ]
  },
  {
   "cell_type": "markdown",
   "metadata": {},
   "source": [
    "Public getters can make private variables viewable outside the class"
   ]
  },
  {
   "cell_type": "code",
   "execution_count": 24,
   "metadata": {},
   "outputs": [
    {
     "name": "stdout",
     "output_type": "stream",
     "text": [
      "Pontiac\n"
     ]
    }
   ],
   "source": [
    "knightRider.make"
   ]
  },
  {
   "cell_type": "code",
   "execution_count": 26,
   "metadata": {},
   "outputs": [
    {
     "name": "stderr",
     "output_type": "stream",
     "text": [
      "1:13 - Property '_model' is private and only accessible within class 'Car'.\n"
     ]
    }
   ],
   "source": [
    "knightRider._model"
   ]
  },
  {
   "cell_type": "code",
   "execution_count": 25,
   "metadata": {
    "scrolled": true
   },
   "outputs": [
    {
     "name": "stdout",
     "output_type": "stream",
     "text": [
      "No Model Data\n"
     ]
    }
   ],
   "source": [
    "knightRider.model"
   ]
  },
  {
   "cell_type": "markdown",
   "metadata": {},
   "source": [
    "<a id=\"setter\"></a>\n",
    "\n",
    "### Setters"
   ]
  },
  {
   "cell_type": "markdown",
   "metadata": {},
   "source": [
    "If a property is changed we often want to check or process the data that the property is getting changed to.  This makes setters very important.  They will allow us to define what happens when we change our variable.\n",
    "\n",
    "We can even create getters for things that are not properties.\n",
    "\n",
    "<strong>Note: </strong> Do not try and set a return type on a setter"
   ]
  },
  {
   "cell_type": "code",
   "execution_count": 32,
   "metadata": {},
   "outputs": [
    {
     "name": "stdout",
     "output_type": "stream",
     "text": [
      "chevy\n",
      "lumina\n"
     ]
    }
   ],
   "source": [
    "class Car{\n",
    "    constructor(private _make:string, private _model:string, public nickname:string){}\n",
    "    \n",
    "    get make():string {return this._make}\n",
    "    \n",
    "    get model():string{\n",
    "        //maybe we want to validate that there is a model before we send it back\n",
    "        if(this._model){\n",
    "            return this._model\n",
    "        }else{\n",
    "            return \"No Model Data\"\n",
    "        }\n",
    "    }\n",
    "    \n",
    "    get makeModel():string{  \n",
    "        return `${this._make} ${this._model}` \n",
    "    }\n",
    "    \n",
    "    //ust as an fyi you CAN name it whatever. \n",
    "    //But its better convention & practice to name getters & setters \n",
    "    //similarly to the attributes they are accessing & modifying\n",
    "    \n",
    "    set make(newMake:string){\n",
    "        this._make=newMake\n",
    "    }\n",
    "    \n",
    "    set model(newModel:string){\n",
    "        //Pintos are terrible cars and should never be allowed to exist again\n",
    "        if (newModel && newModel!==\"Pinto\"){\n",
    "            this._model=newModel\n",
    "        }else{\n",
    "            this._model=\"Wrecked\"\n",
    "        }\n",
    "    }\n",
    "}\n",
    "\n",
    "// let knightRider2=new Car(\"Pontiac\", \"\", \"Kitt\")\n",
    "// knightRider2\n",
    "\n",
    "let car = new Car(\"chevy\", \"lumina\", \"Big beefy\")\n",
    "\n",
    "\n",
    "console.log(car.make)\n",
    "//console.log(car._make)\n",
    "console.log(car.model)\n",
    "//console.log(car._model)\n"
   ]
  },
  {
   "cell_type": "code",
   "execution_count": 34,
   "metadata": {},
   "outputs": [
    {
     "name": "stdout",
     "output_type": "stream",
     "text": [
      "Big beefy\n"
     ]
    }
   ],
   "source": [
    "car.make =\"Honda\"\n",
    "car.model =\"Civic\"\n",
    "car.nickname "
   ]
  },
  {
   "cell_type": "markdown",
   "metadata": {},
   "source": [
    "Setters can allow us to change a private variable, while still letting the class decide how to properly enact the change."
   ]
  },
  {
   "cell_type": "code",
   "execution_count": 31,
   "metadata": {},
   "outputs": [
    {
     "name": "stdout",
     "output_type": "stream",
     "text": [
      "Car { _make: \u001b[32m'BMW'\u001b[39m, _model: \u001b[32m'Wrecked'\u001b[39m, nickname: \u001b[32m'Kitt'\u001b[39m }\n",
      "BMW Wrecked\n"
     ]
    }
   ],
   "source": [
    "knightRider2.make=\"BMW\"\n",
    "knightRider2.model=\"Pinto\"\n",
    "console.log(knightRider2)\n",
    "console.log(knightRider2.makeModel)\n"
   ]
  },
  {
   "cell_type": "markdown",
   "metadata": {},
   "source": [
    "<a id=\"idxsign\"></a>\n",
    "\n",
    "### Index Signatures"
   ]
  },
  {
   "cell_type": "markdown",
   "metadata": {},
   "source": [
    "Index Signatures allow us to dynamically (after creation) change the properties of our class.  This can be done in JS but in TS you get an error\n",
    "\n",
    "syntax:\n",
    "```\n",
    "[placeHolder:DatatypeOfProperty]:DataTypeContainedInProperty\n",
    "```"
   ]
  },
  {
   "cell_type": "code",
   "execution_count": 35,
   "metadata": {},
   "outputs": [
    {
     "name": "stderr",
     "output_type": "stream",
     "text": [
      "2:14 - Property 'year' does not exist on type 'Car'.\n"
     ]
    }
   ],
   "source": [
    "//How we do this in JS\n",
    "knightRider2.year=1982\n"
   ]
  },
  {
   "cell_type": "code",
   "execution_count": 46,
   "metadata": {},
   "outputs": [],
   "source": [
    "class PokemonRatings{\n",
    "    [pokemonName:string]:number\n",
    "}"
   ]
  },
  {
   "cell_type": "code",
   "execution_count": 47,
   "metadata": {
    "scrolled": true
   },
   "outputs": [
    {
     "name": "stdout",
     "output_type": "stream",
     "text": [
      "PokemonRatings { Arceus: \u001b[33m10\u001b[39m }\n"
     ]
    }
   ],
   "source": [
    "let myRatings=new PokemonRatings()\n",
    "myRatings[\"Arceus\"]= 10\n",
    "myRatings"
   ]
  },
  {
   "cell_type": "code",
   "execution_count": 48,
   "metadata": {},
   "outputs": [
    {
     "name": "stderr",
     "output_type": "stream",
     "text": [
      "1:1 - Type 'string' is not assignable to type 'number'.\n"
     ]
    }
   ],
   "source": [
    "myRatings[\"Arceus\"]=\"Best\""
   ]
  },
  {
   "cell_type": "code",
   "execution_count": 49,
   "metadata": {},
   "outputs": [
    {
     "name": "stderr",
     "output_type": "stream",
     "text": [
      "1:11 - Type 'string[]' cannot be used as an index type.\n"
     ]
    }
   ],
   "source": [
    "myRatings[[\"Charmander\",\"Arceus\"]]=1\n",
    "myRatings\n"
   ]
  },
  {
   "cell_type": "markdown",
   "metadata": {},
   "source": [
    "<a id=\"static\"></a>\n",
    "\n",
    "### Static"
   ]
  },
  {
   "cell_type": "markdown",
   "metadata": {},
   "source": [
    "The `static` keyword denotes that the property maintains its value across all instances, and also must be used without an instance.\n",
    "\n",
    "To access a Static Property we call its by class name. `ClassName.staticProperty`"
   ]
  },
  {
   "cell_type": "code",
   "execution_count": 50,
   "metadata": {},
   "outputs": [],
   "source": [
    "class Counter{\n",
    "    public static count:number = 0   \n",
    "    \n",
    "    increaseCount():void{\n",
    "        Counter.count++  \n",
    "    }\n",
    "    \n",
    "    static showCount():void{\n",
    "        console.log(\"The count is\" ${Counter.count})\n",
    "    }\n",
    "}\n"
   ]
  },
  {
   "cell_type": "markdown",
   "metadata": {},
   "source": [
    "#### Accessing"
   ]
  },
  {
   "cell_type": "code",
   "execution_count": 52,
   "metadata": {},
   "outputs": [
    {
     "name": "stdout",
     "output_type": "stream",
     "text": [
      "\u001b[33m0\u001b[39m\n"
     ]
    }
   ],
   "source": [
    "console.log(Counter.count)"
   ]
  },
  {
   "cell_type": "code",
   "execution_count": 53,
   "metadata": {},
   "outputs": [],
   "source": [
    "let counter1=new Counter()"
   ]
  },
  {
   "cell_type": "code",
   "execution_count": 54,
   "metadata": {},
   "outputs": [
    {
     "name": "stderr",
     "output_type": "stream",
     "text": [
      "2:10 - Property 'count' does not exist on type 'Counter'. Did you mean to access the static member 'Counter.count' instead?\n"
     ]
    }
   ],
   "source": [
    " // Can not Access\n",
    "counter1.count"
   ]
  },
  {
   "cell_type": "markdown",
   "metadata": {},
   "source": [
    "All Members of the Counter class share the same count property!"
   ]
  },
  {
   "cell_type": "code",
   "execution_count": 57,
   "metadata": {},
   "outputs": [
    {
     "name": "stdout",
     "output_type": "stream",
     "text": [
      "\u001b[33m7\u001b[39m\n",
      "\u001b[33m8\u001b[39m\n",
      "\u001b[33m9\u001b[39m\n"
     ]
    }
   ],
   "source": [
    "counter1.increaseCount()\n",
    "console.log(Counter.count)\n",
    "let counter2=new Counter()\n",
    "counter2.increaseCount()\n",
    "console.log(Counter.count)\n",
    "counter1.increaseCount()\n",
    "console.log(Counter.count)"
   ]
  },
  {
   "cell_type": "code",
   "execution_count": 58,
   "metadata": {},
   "outputs": [
    {
     "name": "stderr",
     "output_type": "stream",
     "text": [
      "2:10 - Property 'showCount' does not exist on type 'Counter'. Did you mean to access the static member 'Counter.showCount' instead?\n"
     ]
    }
   ],
   "source": [
    "//Nope\n",
    "counter2.showCount()"
   ]
  },
  {
   "cell_type": "code",
   "execution_count": 60,
   "metadata": {},
   "outputs": [
    {
     "name": "stdout",
     "output_type": "stream",
     "text": [
      "The count is \u001b[33m9\u001b[39m\n"
     ]
    }
   ],
   "source": [
    "Counter.showCount()"
   ]
  },
  {
   "cell_type": "markdown",
   "metadata": {},
   "source": [
    "<a id=\"inherit\"></a>\n",
    "\n",
    "## Inheritance"
   ]
  },
  {
   "cell_type": "markdown",
   "metadata": {},
   "source": [
    "We are going to make a Duck class then define children classes to represent different kinds of ducks.  \n",
    "\n",
    "Here we will use the `protected` access modifier for the first time.  Remember protected means that the child class can access the property, while if it was made private it would not be able to be accessed in the child class\n",
    "\n",
    "<b>Note: </b>In python a class can inherit from multiple classes.  This is not possible in JavaScript/TypeScript.  You can only extend one class in JS/TS this is to prevent the so-called diamond problem (when two extended classes have the same base class).  This is fine and normal in most languages because JS also provides Interfaces and a class can implement many Interfaces (more on interfaces later)"
   ]
  },
  {
   "cell_type": "code",
   "execution_count": 61,
   "metadata": {},
   "outputs": [
    {
     "name": "stdout",
     "output_type": "stream",
     "text": [
      "Duck\n",
      "Generic Quack Sound\n",
      "paddles with two little feet\n",
      "\u001b[33m39\u001b[39m\n"
     ]
    }
   ],
   "source": [
    "class Duck{\n",
    "    public static className:string = \"Duck\" \n",
    "    \n",
    "    constructor(protected age$:number){}\n",
    "    \n",
    "    \n",
    "    get age():number{  //protected variables age():number\n",
    "        return this.age$\n",
    "    }\n",
    "    \n",
    "    public quack():void{\n",
    "        console.log(\"Generic Quack Sound\")\n",
    "    }\n",
    "    \n",
    "    public swim():void{\n",
    "        console.log(\"paddles with two little feet\")\n",
    "    }\n",
    "    \n",
    "}\n",
    "console.log(Duck.className)\n",
    "let daffy= new Duck(39)\n",
    "daffy.quack()\n",
    "daffy.swim()\n",
    "daffy.age\n",
    "\n",
    "//daffy.age\n",
    "//erro because age$ is a protected variables"
   ]
  },
  {
   "cell_type": "markdown",
   "metadata": {},
   "source": [
    "#### In the Child Class"
   ]
  },
  {
   "cell_type": "markdown",
   "metadata": {},
   "source": [
    "To inherit from a class in JS/TS we use the extends keyword\n",
    "\n",
    "<b>Note </b> When adding parameters that are part of the parent class we do not add access modifiers"
   ]
  },
  {
   "cell_type": "code",
   "execution_count": 63,
   "metadata": {},
   "outputs": [
    {
     "name": "stdout",
     "output_type": "stream",
     "text": [
      "MallardDuck\n",
      "Duck\n",
      "\u001b[33m2\u001b[39m\n",
      "Generic Quack Sound\n",
      "paddles with two little feet\n",
      "green\n"
     ]
    }
   ],
   "source": [
    "class MallardDuck extends Duck{\n",
    "    public static className=\"MallardDuck\"\n",
    "\n",
    "    constructor(public color:string, age:number){\n",
    "        super(age)\n",
    "    }\n",
    "}\n",
    "\n",
    "let mallard = new MallardDuck(\"green\", 2)\n",
    "console.log(MallardDuck.className)\n",
    "console.log(Duck.className)\n",
    "console.log(mallard.age)\n",
    "mallard.quack()\n",
    "mallard.swim()\n",
    "console.log(mallard.color)\n",
    "\n"
   ]
  },
  {
   "cell_type": "code",
   "execution_count": 62,
   "metadata": {
    "scrolled": true
   },
   "outputs": [
    {
     "name": "stderr",
     "output_type": "stream",
     "text": [
      "2:7 - Property 'color' does not exist on type 'Duck'.\n"
     ]
    }
   ],
   "source": [
    "// Duck's don't have a color\n",
    "daffy.color"
   ]
  },
  {
   "cell_type": "markdown",
   "metadata": {},
   "source": [
    "### Protected Variables are Accessible in the Child Class"
   ]
  },
  {
   "cell_type": "markdown",
   "metadata": {},
   "source": [
    "Try switching the access modifier on serialNo to `private` and you will see you cannot access it in the Roku class."
   ]
  },
  {
   "cell_type": "code",
   "execution_count": null,
   "metadata": {},
   "outputs": [],
   "source": [
    "class TV{\n",
    "    constructor(protected serialNo:string){}\n",
    "}\n",
    "class Roku extends TV{\n",
    "    showSerial(){\n",
    "        console.log(this.serialNo)\n",
    "    }\n",
    "}\n",
    "\n",
    "let mytv=new Roku('4AS567DT')\n",
    "mytv.showSerial()\n",
    "\n"
   ]
  },
  {
   "cell_type": "markdown",
   "metadata": {},
   "source": [
    "<a id=\"methover\"></a>\n",
    "\n",
    "### Method Overrides"
   ]
  },
  {
   "cell_type": "markdown",
   "metadata": {},
   "source": [
    "Now we notice that our mallard makes a generic animal sounds instead of the mallard's quack sound, so we should implement a different way to quack that is specific to mallards, we can do this by overriding the parent class method"
   ]
  },
  {
   "cell_type": "markdown",
   "metadata": {},
   "source": [
    "##### Implicit Overrides"
   ]
  },
  {
   "cell_type": "markdown",
   "metadata": {},
   "source": [
    "If you create a method in a child class with the same name as a method in the parent class, the child class will use the method definition from the child class, this is called a <b>method override</b>  This is done implicitly by the computer.  This is now considered bad practice and it is recommended to always use the `override` keyword (more on that next)"
   ]
  },
  {
   "cell_type": "code",
   "execution_count": 73,
   "metadata": {},
   "outputs": [
    {
     "name": "stdout",
     "output_type": "stream",
     "text": [
      "Mallard Duck\n",
      "Duck\n",
      "\u001b[33m3\u001b[39m\n",
      "weh weh weh weh\n",
      "paddles with two little feet\n",
      "brown\n"
     ]
    }
   ],
   "source": [
    "class Duck {\n",
    "    public static className:string = \"Duck\"\n",
    "    \n",
    "    constructor(protected age$:number){}\n",
    "    \n",
    "    get age():number{\n",
    "        return this.age$\n",
    "    }\n",
    "    \n",
    "    public quack():void{\n",
    "        console.log(\"Generic Quack Sound\")\n",
    "    }\n",
    "    \n",
    "    public swim():void{\n",
    "        console.log(\"paddles with two little feet\")\n",
    "    }\n",
    "}\n",
    "\n",
    "\n",
    "class MallardDuck extends Duck{\n",
    "    public static className=\"Mallard Duck\"\n",
    "    \n",
    "    constructor(public color:string, age:number){\n",
    "        super(age)\n",
    "    }\n",
    "    \n",
    "    public override quack():void{\n",
    "        console.log(\"weh weh weh weh\")\n",
    "    }\n",
    "}\n",
    "\n",
    "\n",
    "let mallard2 = new MallardDuck(\"brown\", 3);\n",
    "console.log(MallardDuck.className)\n",
    "console.log(Duck.className)\n",
    "console.log(mallard2.age)\n",
    "mallard2.quack()\n",
    "mallard2.swim()\n",
    "console.log(mallard2.color)"
   ]
  },
  {
   "cell_type": "markdown",
   "metadata": {},
   "source": [
    "<a id=\"override\"></a>\n",
    "##### Explicit Overrides"
   ]
  },
  {
   "cell_type": "markdown",
   "metadata": {},
   "source": [
    "TS 4.3 they added support for the `override` keyword.  This notebook runs 4.1, so the override keyword will not work.  Without it you get an implicit override, where TS infers you are overriding when you use the same name.\n",
    "\n",
    "The `override` keyword is really useful for when you change your base class and maybe remove a method.  The Child classes with now get an error saying there is no method to override. "
   ]
  },
  {
   "cell_type": "markdown",
   "metadata": {},
   "source": [
    "Since this notebook does not support the `override` keyword, we will have you checkout this file using StackBlitz\n",
    "\n",
    "[https://stackblitz.com/edit/w9pgd4?file=index.ts](https://stackblitz.com/edit/w9pgd4?file=index.ts)\n",
    "\n",
    "when using this code be sure to open the console (on the bottom right below the browser output)"
   ]
  },
  {
   "cell_type": "markdown",
   "metadata": {},
   "source": [
    "<a id=\"polym\"></a>\n",
    "\n",
    "### Polymorphism"
   ]
  },
  {
   "cell_type": "markdown",
   "metadata": {},
   "source": [
    "Polymorphism means having many forms.  What we have learned in TS so far is that you always need to know the datatype of your variables.  And if you say make an array you have to define what is in that array.  \n",
    "\n",
    "What polymorphism says is if one class (say MallardDuck) inherits from a class (say Duck) then every MallardDuck is a Duck. Also, all other Children of the Duck Class (say RedHeadedDuck) are also Ducks; and not to forget that Ducks are also Ducks.  This means we can build an Array&lt;Ducks&gt; and include Ducks, RedHeadedDucks, and Mallard Ducks.\n",
    "    \n",
    "In OOP we often talk about the <b>Open-Closed Principal</b> The open–closed principle states \"software entities (classes, modules, functions, etc.) should be open for extension, but closed for modification\";\n",
    "    \n",
    "Polymorphism is a key way we can help achieve this goal"
   ]
  },
  {
   "cell_type": "markdown",
   "metadata": {},
   "source": [
    "<b>Lets </b> make another Type of Duck the ReadHeadedDuck"
   ]
  },
  {
   "cell_type": "code",
   "execution_count": 74,
   "metadata": {},
   "outputs": [],
   "source": [
    "class RedHeadedDuck extends Duck {\n",
    "    public static className = \"RedHeadedDuck\"\n",
    "    \n",
    "    constructor(public color: string, age$:number){\n",
    "        super(age$)\n",
    "    }\n",
    "    \n",
    "    get age():number{\n",
    "        // all redheaded ducks age a little slower by one year\n",
    "        return this.age$ - 1\n",
    "    }\n",
    "\n",
    "    public override quack():void {\n",
    "        console.log(\"WAH WAH WAH WAH\")\n",
    "    }\n",
    "}\n",
    "\n"
   ]
  },
  {
   "cell_type": "markdown",
   "metadata": {},
   "source": [
    "Let’s make an array of Ducks.  Since all Duck Types inherit from Duck we can declare the array and array of Ducks."
   ]
  },
  {
   "cell_type": "code",
   "execution_count": 75,
   "metadata": {},
   "outputs": [],
   "source": [
    "let duckArray:Duck[] = [\n",
    "    \n",
    "        new Duck(23),\n",
    "        new MallardDuck(\"black\", 14),\n",
    "        new RedHeadedDuck(\"purple\", 54),\n",
    "    ]\n"
   ]
  },
  {
   "cell_type": "markdown",
   "metadata": {},
   "source": [
    "Now Lets watch Polymorphism in action\n",
    "\n",
    "This is really cool, because all Ducks are implementing the same behaviors (methods) we can invoke them and get the results from each individual class."
   ]
  },
  {
   "cell_type": "code",
   "execution_count": 76,
   "metadata": {
    "scrolled": true
   },
   "outputs": [
    {
     "name": "stdout",
     "output_type": "stream",
     "text": [
      "\u001b[33m23\u001b[39m\n",
      "Generic Quack Sound\n",
      "paddles with two little feet\n",
      "\u001b[33m14\u001b[39m\n",
      "weh weh weh weh\n",
      "paddles with two little feet\n",
      "\u001b[33m53\u001b[39m\n",
      "WAH WAH WAH WAH\n",
      "paddles with two little feet\n"
     ]
    }
   ],
   "source": [
    "for (let duck of duckArray){\n",
    "    console.log(duck.age)\n",
    "    duck.quack()\n",
    "    duck.swim()\n",
    "}\n"
   ]
  },
  {
   "cell_type": "markdown",
   "metadata": {},
   "source": [
    "<a id=\"dp\"></a>\n",
    "\n",
    "## OOP Design Patterns"
   ]
  },
  {
   "cell_type": "markdown",
   "metadata": {},
   "source": [
    "There are alot of ways to design systems with classes and Abstract classes and interfaces (more of these last two things coming up)\n",
    "\n",
    "The way you connect your Classes/Interface/Abstract Class make up your Design Pattern.  We are going to walk you through a good OOP design pattern in the next few sections"
   ]
  },
  {
   "cell_type": "markdown",
   "metadata": {},
   "source": [
    "<a id=\"abs\"></a>\n",
    "\n",
    "## Abstract Classes"
   ]
  },
  {
   "cell_type": "markdown",
   "metadata": {},
   "source": [
    "Our `Duck` Class now has a problem.  We shouldn't be able to create a plain duck.  All Ducks in the world are some variation on the Duck class, but a plain generic Duck should never exist.  This means we shouldn't be able to make a new duck\n",
    "\n",
    "`let duck = Duck(23)` Should not be allowed because this doesn't make logical sense.\n",
    "\n",
    "Don't fear because we have a solution for this.  We will use an `Abstract Class`  An Abstract Class is a class typically without method implementations, or implementations that function the same for all children classes.  In an Abstract class we merely define that a method should exist and that the children classes should define their own implantation..\n",
    "\n",
    "<b>Note: </b> All Abstract methods have a body even if it is empty"
   ]
  },
  {
   "cell_type": "code",
   "execution_count": 77,
   "metadata": {},
   "outputs": [],
   "source": [
    "abstract class Duck{\n",
    "    // We will added this next line after we realize we can't print the color from the child classes\n",
    "//     color:string\n",
    "    constructor(protected age$:number){}\n",
    "    \n",
    "    get age(){return this.age$}\n",
    "    \n",
    "    quack(){}\n",
    "    swim(){}\n",
    "}\n"
   ]
  },
  {
   "cell_type": "code",
   "execution_count": 79,
   "metadata": {},
   "outputs": [
    {
     "name": "stderr",
     "output_type": "stream",
     "text": [
      "1:15 - Cannot create an instance of an abstract class.\n"
     ]
    }
   ],
   "source": [
    "  let aduck = new Duck(25) //Error"
   ]
  },
  {
   "cell_type": "code",
   "execution_count": 85,
   "metadata": {},
   "outputs": [
    {
     "name": "stderr",
     "output_type": "stream",
     "text": [
      "4:24 - Duplicate identifier 'color'.\n"
     ]
    }
   ],
   "source": [
    "class MallardDuck extends Duck {\n",
    "\n",
    "   \n",
    "    constructor(public color: string, age$: number) {\n",
    "        super(age$);\n",
    "    }\n",
    "\n",
    "    get age():number{\n",
    "        // Lets Pretend all Mallards are 5 years old than other ducks\n",
    "        return this.age$ + 5\n",
    "    }\n",
    "\n",
    "    quack(): void {\n",
    "        console.log(\"Mallads Quack\");\n",
    "    }\n",
    "    \n",
    "    swim():void{\n",
    "        console.log(\"Swims like a Mallard\")\n",
    "    } \n",
    "}\n",
    "\n",
    "class RedHeadedDuck extends Duck {\n",
    "\n",
    "    constructor(public color: string, age$: number) {\n",
    "        super(age$);\n",
    "    }\n",
    "\n",
    "    get age():number{\n",
    "        // Lets Pretend all Red Headed Ducks are 1 years younger than other ducks\n",
    "        return this.age$ - 1\n",
    "    }\n",
    "\n",
    "    quack(): void {\n",
    "        console.log(\"Red Headed Duck's Quack\");\n",
    "    }\n",
    "        \n",
    "    swim():void{\n",
    "        console.log(\"Swimming like a RedHeaded Duck\")\n",
    "    } \n",
    "}\n",
    "\n",
    "\n",
    "let aMallard = new MallardDuck(\"black\", 25)\n",
    "let aReadhead = new RedHeadedDuck(\"purple\", 32)\n",
    "let duckyArray:Duck[]=[aMallard, aReadhead]\n",
    "\n",
    "\n"
   ]
  },
  {
   "cell_type": "code",
   "execution_count": 87,
   "metadata": {},
   "outputs": [
    {
     "name": "stdout",
     "output_type": "stream",
     "text": [
      "\u001b[33m30\u001b[39m\n",
      "Mallads Quack\n",
      "Swims like a Mallard\n",
      "\u001b[33m31\u001b[39m\n",
      "Red Headed Duck's Quack\n",
      "Swimming like a RedHeaded Duck\n"
     ]
    }
   ],
   "source": [
    "for (let duck of duckyArray){\n",
    "    console.log(duck.age)\n",
    "    duck.quack()\n",
    "    duck.swim()\n",
    "   \n",
    "}\n"
   ]
  },
  {
   "cell_type": "markdown",
   "metadata": {},
   "source": [
    "<b>What happened with Color?</b>"
   ]
  },
  {
   "cell_type": "markdown",
   "metadata": {},
   "source": [
    "Lets Try and get the ducks color the same way.\n",
    "\n",
    "when we run the code below we get \n",
    "\n",
    "```Property 'color' does not exist on type 'Duck'.```\n",
    "We know MallardDuck and RedheadedDuck have the property color, but since we are accessing the RedHeaded and Mallard Ducks as a Duck Type (since they are in a array of Ducks not as RedheadedDuck|MallardDuck) we can not use the color property unless it is defined in the parent Abstract class.\n",
    "\n",
    "To fix this we can go back to our base class of `Duck` and add the property `color:string` at the top of our `Duck` class.  Then rerun the cells defining `MallardDuck` and `RedheadedDuck` (to get the new copy of the Duck class) and then rerun the cell below and we should see out expected results"
   ]
  },
  {
   "cell_type": "code",
   "execution_count": null,
   "metadata": {},
   "outputs": [],
   "source": [
    "for (let duck of duckyArray){\n",
    "    console.log(duck.color)\n",
    "}\n",
    "\n"
   ]
  },
  {
   "cell_type": "markdown",
   "metadata": {},
   "source": [
    "<a id=\"fly\"></a>\n",
    "\n",
    "#### Flying Ducks"
   ]
  },
  {
   "cell_type": "markdown",
   "metadata": {},
   "source": [
    "Let's imagine now we are tasked with adding the ability to fly to our ducks.  This will be simple to add a new method to our Abstract base class `Duck` then implement its specific functionality in the children classes `MallardDuck` and `RedHeaded Duck`.  And for simplicity lets remove the color property"
   ]
  },
  {
   "cell_type": "code",
   "execution_count": 88,
   "metadata": {},
   "outputs": [],
   "source": [
    "abstract class Duck{\n",
    "    constructor(protected age$:number){}\n",
    "    get age(){return this.age$}\n",
    "    quack():void{}\n",
    "    swim():void{}\n",
    "    fly():void{}\n",
    "}\n",
    "\n",
    "class MallardDuck extends Duck {\n",
    "\n",
    "    constructor(age: number) {\n",
    "        super(age);\n",
    "    }\n",
    "\n",
    "    get age():number{\n",
    "        // Lets Pretend all Mallards are 5 years old than other ducks\n",
    "        return this.age$ + 5\n",
    "    }\n",
    "\n",
    "    quack(): void {\n",
    "        console.log(\"Mallad's Quack\");\n",
    "    }\n",
    "    \n",
    "    swim():void{\n",
    "        console.log(\"Swimming like a Mallard\")\n",
    "    } \n",
    "    \n",
    "    fly():void{\n",
    "        console.log(\"Fly like a Mallard\")\n",
    "    }\n",
    "}\n",
    "\n",
    "class RedHeadedDuck extends Duck {\n",
    "\n",
    "    constructor(age: number) {\n",
    "        super(age);\n",
    "    }\n",
    "\n",
    "    get age():number{\n",
    "        // Lets Pretend all Red Headed Ducks are 1 years younger than other ducks\n",
    "        return this.age$ - 1\n",
    "    }\n",
    "\n",
    "    quack(): void {\n",
    "        console.log(\"Red Headed Duck's Quack\");\n",
    "    }\n",
    "        \n",
    "    swim():void{\n",
    "        console.log(\"Swimming like a RedHeaded Duck\")\n",
    "    } \n",
    "    \n",
    "    fly():void{\n",
    "        console.log(\"Fly like a Red Headed Duck\")\n",
    "    }\n",
    "}\n",
    "\n",
    "\n"
   ]
  },
  {
   "cell_type": "markdown",
   "metadata": {},
   "source": [
    "<a id=\"decoy\"></a>\n",
    "\n",
    "#### Decoy Ducks "
   ]
  },
  {
   "cell_type": "markdown",
   "metadata": {},
   "source": [
    "Okay that was easy enough, but now we are required to make another type of duck, a duck decoy.  Lets Build our `DecoyDuck` class"
   ]
  },
  {
   "cell_type": "code",
   "execution_count": null,
   "metadata": {},
   "outputs": [],
   "source": [
    "class DecoyDuck extends Duck {\n",
    "\n",
    "    constructor(age$: number) {\n",
    "        super(age$);\n",
    "    }\n",
    "\n",
    "    get age():number{\n",
    "        // Decoy ducks are just aged painted foam so they can have normal years\n",
    "        return this.age$\n",
    "    }\n",
    "\n",
    "    quack(): void {\n",
    "        console.log(\"I don't Know how to Squeek\");\n",
    "    }\n",
    "        \n",
    "    swim():void{\n",
    "        console.log(\"Floating on the pond like a real duck, BUT IM NOT\")\n",
    "    } \n",
    "    \n",
    "    fly():void{\n",
    "        //then what\n",
    "        // What do we do here?  \n",
    "        // We must implement this method buy decoy ducks don't fly!\n",
    "        //i can FLYYYYYYYY\n",
    "        \n",
    "        return\n",
    "    }\n",
    "}\n",
    "\n"
   ]
  },
  {
   "cell_type": "markdown",
   "metadata": {},
   "source": [
    "We Have now come across a problem with using the abstract class to derive all our Duck Types.  A Decoy Duck has no implementation of fly, and thus we should not be implementing a fly method on a decoy duck.\n",
    "\n",
    "Never Fear! Interfaces are here!  An Interface lets you define methods that a class needs to implement.  It can also be used as a type."
   ]
  },
  {
   "cell_type": "markdown",
   "metadata": {},
   "source": [
    "<a id=\"ice1\"></a>\n",
    "\n",
    "## In Class Exercise #1"
   ]
  },
  {
   "cell_type": "markdown",
   "metadata": {},
   "source": [
    "Create a class `Car` and then create 2 car subclasses `SmartCar`, `Truck`.\n",
    "All Cars should be able to `brake` `drive` and `honk`\n",
    "\n",
    "- When a SmartCar drives it makes `hummmm` sound and when it honks it makes a `MMmeep` sound\n",
    "- When a Truck drives it makes a `vrooom` sound and when it honks it makes `BWaaaaaahp`\n",
    "- When a Truck or a SmartCar brakes it makes `squeeel` sound"
   ]
  },
  {
   "cell_type": "code",
   "execution_count": null,
   "metadata": {},
   "outputs": [],
   "source": [
    "//Solution\n",
    "\n",
    "\n",
    "\n",
    "\n",
    "\n",
    "\n",
    "\n",
    "\n",
    "\n",
    "\n",
    "\n",
    "\n",
    "\n",
    "\n",
    "\n",
    "\n",
    "\n",
    "\n",
    "\n",
    "\n",
    "\n",
    "\n"
   ]
  },
  {
   "cell_type": "markdown",
   "metadata": {},
   "source": [
    "<a id=\"interfaces\"></a>\n",
    "\n",
    "### Interfaces"
   ]
  },
  {
   "cell_type": "markdown",
   "metadata": {},
   "source": [
    "Let's redefine our Ducks now using Interfaces. Interfaces are generally names with the suffix `able` because the Interface says anything that implements me is able to do these actions.\n",
    "\n",
    "Interfaces also work with Polymorphism. \n",
    "\n",
    "To say a class uses an interface we use the keyword `implements`\n",
    "\n",
    "A class can implement many interfaces, yet extend only one class.\n",
    "\n",
    "An Interface can enforce many different methods/properties, but in this example we will keep it to one method per interface.  The Age property should belong to all ducks still, so we will keep the Duck base class to hold the age, for these examples we will assume the ducks all age exactly the same, so there will be no need to override the getters for age.\n",
    "\n",
    "<i>Interface vs Type</i>\n",
    "\n",
    "Interfaces and Types are extremely similar in TypeScript and for the most part Interfaces and Types can be used interchangeably in TypeScript.\n",
    "\n",
    "for an in-depth discussion on the differences visit https://www.educba.com/typescript-type-vs-interface/\n",
    "\n",
    "Interfaces are created to say this class will work with anything that needs this interface.  You can think of a CD as an interface.  There are tons of different CDs with different information on them, but they can all be put into a CD player to play there contents.  The CD is an interface that works with a CD Player then different artists can use the CD interface to create there own CDs filled with their own music.\n",
    "\n",
    "\n",
    "<strong>Note </strong> Interfaces do not have method bodies (Abstract classes have method bodies)"
   ]
  },
  {
   "cell_type": "code",
   "execution_count": 91,
   "metadata": {},
   "outputs": [],
   "source": [
    "abstract class Duck{\n",
    "    constructor(protected age$: number){}\n",
    "    get age(){return this.age$}\n",
    "}\n",
    "\n",
    "interface Quackable{\n",
    "    quack():void\n",
    "}\n",
    "interface Swimmable{\n",
    "    swim():void\n",
    "}\n",
    "interface Flyable{\n",
    "    fly():void\n",
    "}\n",
    "\n",
    "\n",
    "class MallardDuck extends Duck implements Quackable, Swimmable, Flyable {\n",
    "    constructor(age$: number){\n",
    "        super(age$)\n",
    "    }\n",
    "\n",
    "    \n",
    "    quack(): void {\n",
    "        console.log(\"Mallad's Quack\");\n",
    "    }\n",
    "    \n",
    "    swim():void{\n",
    "        console.log(\"Swimming like a Mallard\")\n",
    "    } \n",
    "    \n",
    "    fly():void{\n",
    "        console.log(\"Fly like a Mallard\")\n",
    "    }\n",
    "}\n",
    "\n",
    "class RedHeadedDuck  extends Duck implements Quackable, Swimmable, Flyable  {\n",
    "    constructor(age$:number){\n",
    "        super(age$)\n",
    "    }\n",
    "    \n",
    "    quack(): void {\n",
    "        console.log(\"Red Headed Duck's Quack\");\n",
    "    }\n",
    "        \n",
    "    swim():void{\n",
    "        console.log(\"Swimming like a RedHeaded Duck\")\n",
    "    } \n",
    "    \n",
    "    fly():void{\n",
    "        console.log(\"Fly like a Red Headed Duck\")\n",
    "    }\n",
    "}\n",
    "\n",
    "//Decoy ducks don't fly so the don't implement Flyable\n",
    "class DecoyDuck extends Duck implements Quackable, Swimmable{\n",
    "    constructor(age$: number){\n",
    "        super(age$)\n",
    "    }\n",
    "    \n",
    "    quack(): void {\n",
    "        console.log(\"This is a fake quack\");\n",
    "    }\n",
    "        \n",
    "    swim():void{\n",
    "        console.log(\"Idk i just float here i guess\")\n",
    "    } \n",
    "}\n",
    "\n",
    "\n"
   ]
  },
  {
   "cell_type": "markdown",
   "metadata": {},
   "source": [
    "We can use the Interface as a type to make an array of all the ducks that Quack"
   ]
  },
  {
   "cell_type": "code",
   "execution_count": 92,
   "metadata": {},
   "outputs": [
    {
     "name": "stdout",
     "output_type": "stream",
     "text": [
      "Mallad's Quack\n",
      "Red Headed Duck's Quack\n",
      "This is a fake quack\n"
     ]
    }
   ],
   "source": [
    "let quackingArray:Quackable[] = [\n",
    "    new MallardDuck(23),\n",
    "    new RedHeadedDuck(23),\n",
    "    new DecoyDuck(23)\n",
    "]\n",
    "for (let duck of quackingArray){\n",
    "    // Here we can do anything a Quackable can do\n",
    "    duck.quack()\n",
    "    //console.log(duck.age) // This will error because Only works for ducks types\n",
    "    //duck.fly() //This will Error because Quackables are not guaranteed to fly\n",
    "}\n"
   ]
  },
  {
   "cell_type": "code",
   "execution_count": 93,
   "metadata": {},
   "outputs": [
    {
     "name": "stdout",
     "output_type": "stream",
     "text": [
      "Fly like a Mallard\n",
      "Fly like a Red Headed Duck\n"
     ]
    }
   ],
   "source": [
    "let flyingArray:Flyable[]=[\n",
    "    new MallardDuck(23),\n",
    "    new RedHeadedDuck(24),\n",
    "//  new DecoyDuck(2) // Cannot Add a DecoyDuck because he doesn't Fly\n",
    "]\n",
    "\n",
    "for (let duck of flyingArray){\n",
    "    duck.fly()\n",
    "}\n"
   ]
  },
  {
   "cell_type": "code",
   "execution_count": 94,
   "metadata": {},
   "outputs": [
    {
     "name": "stdout",
     "output_type": "stream",
     "text": [
      "\u001b[33m12\u001b[39m\n",
      "\u001b[33m23\u001b[39m\n",
      "\u001b[33m12\u001b[39m\n"
     ]
    }
   ],
   "source": [
    "let newDuckArray:Duck[]=[\n",
    "    new MallardDuck(12),\n",
    "    new RedHeadedDuck(23),\n",
    "    new DecoyDuck(12) \n",
    "]\n",
    "\n",
    "for (let duck of newDuckArray){\n",
    "    console.log(duck.age)\n",
    "}\n"
   ]
  },
  {
   "cell_type": "markdown",
   "metadata": {},
   "source": [
    "<a id=\"ice2\"></a>\n",
    "## In Class Exercise #2"
   ]
  },
  {
   "cell_type": "markdown",
   "metadata": {},
   "source": [
    "Create a Interface Of MusicMedia that states anything implementing it should be able to `play` and create Classes: CD, Tape, Record to implement your interface\n",
    "\n",
    "To implement play:\n",
    "\n",
    "- CDs will print \"Spins and read with Laser\"\n",
    "- Tapes will print \"Magnetic Tape is read\"\n",
    "- Records will print \"Needle reads grooves\""
   ]
  },
  {
   "cell_type": "code",
   "execution_count": null,
   "metadata": {},
   "outputs": [],
   "source": [
    "//Solution\n",
    "\n",
    "\n",
    "\n",
    "\n",
    "\n",
    "\n",
    "\n",
    "\n",
    "\n",
    "\n",
    "\n",
    "\n",
    "\n",
    "\n",
    "\n",
    "\n",
    "\n",
    "\n",
    "\n",
    "\n",
    "\n",
    "\n"
   ]
  },
  {
   "cell_type": "markdown",
   "metadata": {},
   "source": [
    "<a id=\"rubber\"></a>\n",
    "\n",
    "#### Rubber Duck / Final Design"
   ]
  },
  {
   "cell_type": "markdown",
   "metadata": {},
   "source": [
    "Lets take this a step futher, because we know we will be making a lot more types of ducks in the future.  Lets now assume a mallard and redheaded duck both quack and fly and swim the same and most ducks will have the same sort of flying and quacking and swimming mechanism.  Decoy ducks still fly, quack, and swim differently.  \n",
    "\n",
    "Now we are tasked with creating a Rubber Ducky.  A Rubber ducky will not be able to fly like our Decoy Duck, It will quack in its own squeaky way, and it will swim like the Decoy duck by floating.\n",
    "\n",
    "This is our final iteration of this Duck Design"
   ]
  },
  {
   "cell_type": "code",
   "execution_count": 96,
   "metadata": {},
   "outputs": [],
   "source": [
    "interface Quackable{\n",
    "    quack():void\n",
    "}\n",
    "\n",
    "interface Swimmable{\n",
    "    swim():void\n",
    "}\n",
    "\n",
    "interface Flyable{\n",
    "    fly():void\n",
    "}\n",
    "\n",
    "class Quacks implements Quackable{\n",
    "    quack(){\n",
    "        console.log(\"Quack\")\n",
    "    }\n",
    "}\n",
    "\n",
    "class Squeaks implements Quackable{\n",
    "    quack(){\n",
    "        console.log(\"Squeak\")\n",
    "    }\n",
    "}\n",
    "\n",
    "class Muted implements Quackable{\n",
    "    quack(){\n",
    "        console.log(\"The Sound of Silence\")\n",
    "    }\n",
    "}\n",
    "\n",
    "class Floats implements Swimmable{\n",
    "    swim(){\n",
    "        console.log(\"Floating\")\n",
    "    }\n",
    "}\n",
    "\n",
    "class Swims implements Swimmable{\n",
    "    swim(){\n",
    "        console.log(\"Standard Duck Swim\")\n",
    "    }\n",
    "}\n",
    "\n",
    "class FlyWithWings implements Flyable{\n",
    "    fly(){\n",
    "        console.log(\"Flys with the wings\")\n",
    "    }\n",
    "}\n",
    "\n",
    "class NeverFlys implements Flyable{\n",
    "    fly(){\n",
    "        console.log(\"I don't fly\")\n",
    "    }\n",
    "}\n",
    "\n",
    "abstract class Duck implements Quackable, Swimmable, Flyable{\n",
    "    protected swimAbility$: Swimmable\n",
    "    protected quackAbility$: Quackable\n",
    "    protected flyAbility$: Flyable\n",
    "    \n",
    "   \n",
    "    constructor(protected age$: number){}\n",
    "    get age(){return this.age$}\n",
    "    \n",
    "    set flyAbility(fa:Flyable){\n",
    "        this.flyAbility$=fa\n",
    "    }\n",
    "    \n",
    "    set quackAbility(qa:Quackable){\n",
    "        this.quackAbility$=qa\n",
    "    }\n",
    "    \n",
    "    set swimAbility(sa:Swimmable){\n",
    "        this.swimAbility$=sa\n",
    "    }\n",
    "   \n",
    "    swim():void{\n",
    "        this.swimAbility$.swim()\n",
    "    }\n",
    "    \n",
    "    quack():void{\n",
    "        this.quackAbility$.quack()\n",
    "    }\n",
    "    \n",
    "    fly():void{\n",
    "        this.flyAbility$.fly()\n",
    "    }\n",
    "}\n",
    "\n",
    "\n",
    "\n",
    "class MallardDuck extends Duck {\n",
    "    swimAbility$ = new Swims()\n",
    "    quackAbility$ = new Quacks()\n",
    "    flyAbility$ = new FlyWithWings()\n",
    "}\n",
    "\n",
    "class RedHeadedDuck extends Duck {\n",
    "    swimAbility$ = new Swims()\n",
    "    quackAbility$ = new Quacks()\n",
    "    flyAbility$ = new FlyWithWings()\n",
    "}\n",
    "\n",
    "class RubberDuck extends Duck {\n",
    "    swimAbility$ = new Floats()\n",
    "    quackAbility$ = new Squeaks()\n",
    "    flyAbility$ = new NeverFlys()\n",
    "}\n",
    "\n",
    "class DecoyDuck extends Duck {\n",
    "    swimAbility$ = new Floats()\n",
    "    quackAbility$ = new Muted()\n",
    "    flyAbility$ = new NeverFlys()\n",
    "}\n",
    "\n"
   ]
  },
  {
   "cell_type": "code",
   "execution_count": 97,
   "metadata": {
    "scrolled": true
   },
   "outputs": [
    {
     "name": "stdout",
     "output_type": "stream",
     "text": [
      "Flys with the wings\n",
      "Standard Duck Swim\n",
      "Quack\n",
      "Flys with the wings\n",
      "Standard Duck Swim\n",
      "Quack\n",
      "I don't fly\n",
      "Floating\n",
      "The Sound of Silence\n",
      "I don't fly\n",
      "Floating\n",
      "Squeak\n"
     ]
    }
   ],
   "source": [
    "let allDucks:Duck[]=[\n",
    "    new MallardDuck(4),\n",
    "    new RedHeadedDuck(1),\n",
    "    new DecoyDuck(5),\n",
    "    new RubberDuck(1)\n",
    "]\n",
    "\n",
    "for (let duck of allDucks){\n",
    "    duck.fly()\n",
    "    duck.swim()\n",
    "    duck.quack() \n",
    "}\n"
   ]
  },
  {
   "cell_type": "markdown",
   "metadata": {},
   "source": [
    "<a id=\"mpoly\"></a>\n",
    "\n",
    "### More Polymorphism"
   ]
  },
  {
   "cell_type": "markdown",
   "metadata": {},
   "source": [
    "We can now use the parent class of duck to declare all our duck types and expect the all same abilities to work on each instance of duck"
   ]
  },
  {
   "cell_type": "code",
   "execution_count": null,
   "metadata": {},
   "outputs": [],
   "source": [
    "let duck1: Duck = new MallardDuck(4)\n",
    "let duck2: Duck = new RedHeadedDuck(1)\n",
    "let duck3: Duck = new DecoyDuck(23)\n",
    "let duck4: Duck = new RubberDuck(34)\n"
   ]
  },
  {
   "cell_type": "code",
   "execution_count": null,
   "metadata": {},
   "outputs": [],
   "source": [
    "for (let duck of [duck1, duck2, duck3, duck4]){\n",
    "    duck.fly()\n",
    "    duck.swim()\n",
    "    duck.quack() \n",
    "}\n"
   ]
  },
  {
   "cell_type": "markdown",
   "metadata": {},
   "source": [
    "We also have the ability to change the implementations with this set up.  Lets make a RubberDuck learn to fly"
   ]
  },
  {
   "cell_type": "code",
   "execution_count": null,
   "metadata": {},
   "outputs": [],
   "source": [
    "\n",
    "\n"
   ]
  },
  {
   "cell_type": "markdown",
   "metadata": {},
   "source": [
    "<a id=\"ptoi\"></a>\n",
    "\n",
    "#### Programming To Interface"
   ]
  },
  {
   "cell_type": "markdown",
   "metadata": {},
   "source": [
    "This design can be further improved, but it is a quite flexible design.  What we are learning is the idea of <b>Programming to Interface</b>.  This is the idea could really be stated <b>program to a supertype</b>.  The declared type of the variables should be a supertype, usually an abstract class or interface, so that the objects assiged to those variables can be of any concrete implementation of the supertype, which means the decalring class doesn't have to know about the object types! "
   ]
  },
  {
   "cell_type": "markdown",
   "metadata": {},
   "source": [
    "<a id=\"xi\"></a>\n",
    "\n",
    "### Extending Interfaces"
   ]
  },
  {
   "cell_type": "markdown",
   "metadata": {},
   "source": [
    "An interface can also be used alot like a type.  The main difference here is an interface describes the object while a type defines the object.  \n",
    "\n",
    "In TypeScript, We can even extend interfaces with the extends keyword."
   ]
  },
  {
   "cell_type": "code",
   "execution_count": null,
   "metadata": {},
   "outputs": [],
   "source": [
    "\n",
    "\n",
    "\n",
    "\n",
    "\n",
    "\n",
    "\n",
    "\n",
    "\n",
    "\n",
    "\n",
    "\n",
    "\n",
    "\n",
    "\n",
    "\n",
    "\n",
    "\n",
    "\n",
    "\n",
    "\n",
    "\n",
    "\n",
    "\n",
    "\n",
    "\n"
   ]
  },
  {
   "cell_type": "markdown",
   "metadata": {},
   "source": [
    "<a id=\"gen\"></a>\n",
    "\n",
    "# Generics"
   ]
  },
  {
   "cell_type": "markdown",
   "metadata": {},
   "source": [
    "Sometimes we want to allow for all sorts of types for our variables.  We know using an `any` type is bad practice, so how can we accomplish this?  With the use of Generics!"
   ]
  },
  {
   "cell_type": "markdown",
   "metadata": {},
   "source": [
    "\n",
    "<a id=\"gf\"></a>\n",
    "### Generic Functions"
   ]
  },
  {
   "cell_type": "markdown",
   "metadata": {},
   "source": [
    "To create a generic function we will append the class name with `<` `placeholder to represent any type` `>` and we type the parameters with the placeholder.\n",
    "\n",
    "\n",
    "This is very similar to how this is done in C++.\n",
    "\n",
    "You will often see the placeholder labeled as `T` this stands for Template Class, but you can use anything you want here, but I would keep it to a single letter.\n",
    "\n",
    "When calling the function we can gernally just use our argument like normal, but if for some reason the compiler is unsure of our type we can append  `<` `Generic Type Placeholder` `>` after the name of the function"
   ]
  },
  {
   "cell_type": "code",
   "execution_count": null,
   "metadata": {},
   "outputs": [],
   "source": [
    "function genericFunction<T>(myGenericVar:T){\n",
    "        if (typeof myGenericVar ==\"string\"){\n",
    "            console.log(\"We Got a String Here\")\n",
    "        }else if (typeof myGenericVar ==\"number\"){\n",
    "            console.log(\"We got a Number here\")\n",
    "        }else{\n",
    "            console.log(\"We got something thats not a String or Number\")\n",
    "        }\n",
    "}\n",
    "\n",
    "genericFunction<string>(\"a String\")\n",
    "genericFunction(\"a String\")\n",
    "genericFunction(123)\n",
    "genericFunction(true)"
   ]
  },
  {
   "cell_type": "markdown",
   "metadata": {},
   "source": [
    "<a id=\"gc\"></a>\n",
    "\n",
    "### Generic Classes"
   ]
  },
  {
   "cell_type": "markdown",
   "metadata": {},
   "source": [
    "To create a generic class we will append the class name with `<` `placeholder to represent any type` `>` and we type the parameters with the placeholder.\n"
   ]
  },
  {
   "cell_type": "code",
   "execution_count": null,
   "metadata": {},
   "outputs": [],
   "source": [
    "class GenericTestClass<T>{\n",
    "    constructor(private myGenericVar:T){}\n",
    "    \n",
    "    get tType():string{\n",
    "        return typeof this.myGenericVar\n",
    "    }\n",
    "    \n",
    "    receiveTType<T>(tParam):string{\n",
    "        return typeof tParam\n",
    "    }\n",
    "    \n",
    "    useTType(){\n",
    "        if (typeof this.myGenericVar ==\"string\"){\n",
    "            console.log(\"We Got a String Here\")\n",
    "        }else if (typeof this.myGenericVar ==\"number\"){\n",
    "            console.log(\"We got a Number here\")\n",
    "        }else{\n",
    "            console.log(\"We got something thats not a String or Number\")\n",
    "        }\n",
    "        \n",
    "    }\n",
    "    \n",
    "    \n",
    "}\n",
    "\n"
   ]
  },
  {
   "cell_type": "code",
   "execution_count": null,
   "metadata": {},
   "outputs": [],
   "source": [
    "let gtc1 = new GenericTestClass<string>(\"Random String\")\n",
    "console.log(gtc1.tType)\n",
    "console.log(gtc1.receiveTType(\"Works\"))\n",
    "// gtc.receiveType(100) //Doesn't work\n",
    "gtc1.useTType()"
   ]
  },
  {
   "cell_type": "code",
   "execution_count": null,
   "metadata": {},
   "outputs": [],
   "source": [
    "let gtc2 = new GenericTestClass<number>(123_456_789)\n",
    "console.log(gtc2.tType)\n",
    "console.log(gtc2.receiveTType(100))\n",
    "// gtc2.receiveTType(\"doesn't work\") //Doesn't work\n",
    "gtc2.useTType()\n",
    "\n"
   ]
  },
  {
   "cell_type": "code",
   "execution_count": null,
   "metadata": {},
   "outputs": [],
   "source": [
    "let gtc3 = new GenericTestClass<number[]>([1,2,3,4])\n",
    "console.log(gtc3.tType)\n",
    "console.log(gtc3.receiveTType([100,200,300]))\n",
    "// gtc3.receiveTType(\"doesn't work\") //Doesn't work\n",
    "gtc3.useTType()\n"
   ]
  },
  {
   "cell_type": "markdown",
   "metadata": {},
   "source": [
    "<a id=\"mg\"></a>\n",
    "\n",
    "### Multiple Generics"
   ]
  },
  {
   "cell_type": "code",
   "execution_count": null,
   "metadata": {},
   "outputs": [],
   "source": [
    "class KeyValuePair<K,V>{\n",
    "    constructor(public key:K, public value:V){}\n",
    "    \n",
    "    doSomething():void{\n",
    "        console.log(\n",
    "            `${this.key} is of type ${typeof this.key},`,\n",
    "            `${this.value}  is of type ${typeof this.value}`)\n",
    "    }\n",
    "}\n",
    "\n",
    "let kyp1=new KeyValuePair<number, string>(123,\"what\")\n",
    "kyp1.doSomething()\n",
    "\n",
    "\n",
    "let kyp2=new KeyValuePair<number[], boolean>([1,2,3,4],true)\n",
    "kyp2.doSomething()"
   ]
  },
  {
   "cell_type": "markdown",
   "metadata": {},
   "source": [
    "<a id=\"gi\"></a>\n",
    "\n",
    "### Generic Interfaces"
   ]
  },
  {
   "cell_type": "markdown",
   "metadata": {},
   "source": [
    "The following code will error when ran.  Be sure to use the autocomplete to see the effect of generics."
   ]
  },
  {
   "cell_type": "code",
   "execution_count": null,
   "metadata": {},
   "outputs": [],
   "source": [
    "interface Guest{\n",
    "    roomNumber:number\n",
    "}\n",
    "\n",
    "interface Room{\n",
    "    noOfBeds:number\n",
    "}\n",
    "\n",
    "interface Query<T>{\n",
    "    data:T|null,\n",
    "    error:string|null\n",
    "}\n",
    "\n",
    "function getUserOrRoom<T>():Query<T>{\n",
    "    //logic to get a User or a Room\n",
    "    \n",
    "    //This will cause an Error running this cell because \n",
    "    //we are returning data as null and not something of type T\n",
    "    // but if this was a real API call this would return data as Type T\n",
    "    return {data:null, error:null}\n",
    "}\n",
    "\n",
    "// Try using the tab's autocomplete here after data. \n",
    "// to see that our options are retricted to members of the T interface\n",
    "getUserOrRoom<Guest>().data.roomNumber\n",
    "\n",
    "getUserOrRoom<Room>().data.noOfBeds\n",
    "\n"
   ]
  },
  {
   "cell_type": "markdown",
   "metadata": {},
   "source": [
    "<a id=\"gcon\"></a>\n",
    "\n",
    "### Generic Constraints"
   ]
  },
  {
   "cell_type": "markdown",
   "metadata": {},
   "source": [
    "Maybe we want to write a generic function that works with all ducks that extend the `Quacks` ability class we created earlier.  We can do this by saying `T extends Quacks`"
   ]
  },
  {
   "cell_type": "code",
   "execution_count": null,
   "metadata": {},
   "outputs": [],
   "source": [
    "function talkToDucks<T extends Quacks>(duck:T ){\n",
    "    duck.quack()\n",
    "}\n",
    "talkToDucks(new MallardDuck(23))\n",
    "talkToDucks(new DecoyDuck(23))\n",
    "talkToDucks(new RubberDuck(23))\n",
    "\n",
    "// talkToDucks(\"Plucky Duck\")  // Error"
   ]
  },
  {
   "cell_type": "markdown",
   "metadata": {},
   "source": [
    "<a id=\"keyof\"></a>\n",
    "\n",
    "### keyof"
   ]
  },
  {
   "cell_type": "markdown",
   "metadata": {},
   "source": [
    "Sometime we need to work with the keys of an object, and if any string is allowed TypeScript could give us and Error (We won't go into these circumstances for brevity), so the `keyof` Operator restricts our options only to valid keys"
   ]
  },
  {
   "cell_type": "code",
   "execution_count": null,
   "metadata": {},
   "outputs": [],
   "source": [
    "interface Item {\n",
    "    id: number,\n",
    "    name:string;\n",
    "    price:number; \n",
    "}\n",
    "\n",
    "let property:keyof Item;\n",
    "// Same as\n",
    "// let property:'name'|'price'|'id';\n",
    "\n",
    "property = 'name';\n",
    "property = 'id';\n",
    "\n",
    "// property = 'otherValue'; // Error not a key of Product"
   ]
  },
  {
   "cell_type": "markdown",
   "metadata": {},
   "source": [
    "<a id=\"typemap\"></a>\n",
    "\n",
    "### Type Mapping"
   ]
  },
  {
   "cell_type": "markdown",
   "metadata": {},
   "source": [
    "Imagine we have an interface and all the properties are required.  Now lets imagine we need another version of this interface that allow all the properties to be optional.  We still need our original Required Interface, so we can't edit that and make the properties optional.  We could create a second Interface will all the same properties and make them optional.  This make a ton of work for us to maintain the interface because now we have to add properties in two locations.  The Solution for this is <b>Type Mapping</b>\n",
    "\n",
    "This will take use of two tools we have already learned `keyof` and <b>Type Signatures</b>"
   ]
  },
  {
   "cell_type": "markdown",
   "metadata": {},
   "source": [
    "<a id=\"optgen\"></a>\n",
    "\n",
    "### Optional&lt;T&gt;"
   ]
  },
  {
   "cell_type": "code",
   "execution_count": null,
   "metadata": {},
   "outputs": [],
   "source": [
    "// Everything in the garage interface is required\n",
    "interface Garage{\n",
    "    noOfCars:number,\n",
    "    doorType:string,\n",
    "    heated:boolean\n",
    "}\n",
    "\n",
    "//Type Mapping works by creating a type not interface\n",
    "// It uses Type Signatures along with keyof\n",
    "// remember a ? at the end makes something optional\n",
    "type OptionalGarage={\n",
    "    [Key in keyof Garage]?:Garage[Key]\n",
    "}\n",
    "\n",
    "let myGarage1:OptionalGarage={\n",
    "    noOfCars:12\n",
    "}\n",
    "myGarage1"
   ]
  },
  {
   "cell_type": "markdown",
   "metadata": {},
   "source": [
    "<a id=\"rogen\"></a>\n",
    "\n",
    "### ReadOnly&lt;T&gt;"
   ]
  },
  {
   "cell_type": "markdown",
   "metadata": {},
   "source": [
    "This will only work for Garage types, but with generics we can make this work for any type.  Instead of making it optional this time lets make it Read Only"
   ]
  },
  {
   "cell_type": "code",
   "execution_count": null,
   "metadata": {},
   "outputs": [],
   "source": [
    "type ReadOnly<T>={\n",
    "    readonly [Key in keyof T]:T[Key]\n",
    "}\n",
    "\n",
    "interface ShopItem{\n",
    "    id:number,\n",
    "    title:string,\n",
    "    price:number\n",
    "}\n",
    "\n",
    "let myShopItem: ReadOnly<ShopItem> ={\n",
    "    id:187,\n",
    "    title: \"SuperSoaker 9000\",\n",
    "    price: 89.99\n",
    "}\n",
    "\n",
    "myShopItem.id=199"
   ]
  },
  {
   "cell_type": "markdown",
   "metadata": {},
   "source": [
    "<a id=\"util\"></a>\n",
    "\n",
    "### Built in Utility Types"
   ]
  },
  {
   "cell_type": "markdown",
   "metadata": {},
   "source": [
    "The good news is we don't have to write this code normally because TypeScript provides a whole library of these utility types.\n",
    "\n",
    "[https://www.typescriptlang.org/docs/handbook/utility-types.html](https://www.typescriptlang.org/docs/handbook/utility-types.html)"
   ]
  },
  {
   "cell_type": "markdown",
   "metadata": {},
   "source": [
    "<a id=\"hw\"></a>\n",
    "\n",
    "## Homework"
   ]
  },
  {
   "cell_type": "markdown",
   "metadata": {},
   "source": [
    "Design a flexible OOP system to describe characters in a RPG game\n",
    "\n",
    "There are 4 Unique Characters which use Different Types of Attacking mechanisms and Defending mechanisms.\n",
    "\n",
    "- Orges - fights with club and defends with shield\n",
    "- Peons - fights with club and defends with shield\n",
    "- Knights - fights with a Sword and defends with Armor\n",
    "- Archer - fights with Bow and Arrow and has only is tunic to protect them\n",
    "\n",
    "- All Characters can collect gold and this will always be the same for every new type of character\n",
    "\n",
    "At the end of this each character should be able to attack and defend and collect gold. If needed any character should be able to change his fighting style, say if a knight losing his sword, but finds a club he should be able to change his fighting mechanism to use the club\n",
    "\n",
    "<b>Hint: </b> To complete this assignment you will need multiple classes and interfaces and an Abstract class\n",
    "\n",
    "You can use our [Final Rubber Ducky Walkthrough](#rubber) example as a guide "
   ]
  },
  {
   "cell_type": "code",
   "execution_count": 101,
   "metadata": {},
   "outputs": [
    {
     "name": "stderr",
     "output_type": "stream",
     "text": [
      "3:13 - ';' expected.\n",
      "11:34 - Cannot find name 'Attackable'.\n",
      "11:34 - Implements clause of exported class 'AttackWithSword' has or is using private name 'Attackable'.\n",
      "17:37 - Cannot find name 'Attackable'.\n",
      "17:37 - Implements clause of exported class 'AttackWithBowArrow' has or is using private name 'Attackable'.\n",
      "23:33 - Cannot find name 'Attackable'.\n",
      "23:33 - Implements clause of exported class 'AttackWithClub' has or is using private name 'Attackable'.\n",
      "29:7 - Duplicate identifier 'DefendWithArmor'.\n",
      "29:34 - Cannot find name 'Defendable'.\n",
      "29:34 - Implements clause of exported class 'DefendWithArmor' has or is using private name 'Defendable'.\n",
      "35:7 - Duplicate identifier 'DefendWithArmor'.\n",
      "35:34 - Cannot find name 'Defendable'.\n",
      "41:34 - Cannot find name 'Defendable'.\n",
      "41:34 - Implements clause of exported class 'DefendWithTunic' has or is using private name 'Defendable'.\n",
      "47:21 - Cannot find name 'Chararcter'. Did you mean 'Character'?\n",
      "47:21 - 'extends' clause of exported class 'Orges' has or is using private name 'Chararcter'.\n",
      "49:26 - Cannot find name 'DefendWithShield'.\n",
      "51:9 - Super calls are not permitted outside constructors or in nested functions inside constructors.\n",
      "54:21 - Property 'gold$' does not exist on type 'Orges'. Did you mean 'gold'?\n",
      "58:21 - Class 'Character' used before its declaration.\n",
      "58:31 - ',' expected.\n",
      "60:26 - Cannot find name 'DefendWithShield'.\n",
      "69:23 - Class 'Character' used before its declaration.\n",
      "80:22 - Class 'Character' used before its declaration.\n",
      "91:37 - Cannot find name 'Attackable'.\n",
      "91:37 - Implements clause of exported class 'Character' has or is using private name 'Attackable'.\n",
      "91:49 - Cannot find name 'Defendable'.\n",
      "91:49 - Implements clause of exported class 'Character' has or is using private name 'Defendable'.\n",
      "92:31 - Cannot find name 'Attackable'.\n",
      "92:31 - Public property 'attackAbility$' of exported class has or is using private name 'Attackable'.\n",
      "93:31 - Cannot find name 'Defendable'.\n",
      "93:31 - Public property 'defendAbility$' of exported class has or is using private name 'Defendable'.\n",
      "99:26 - Cannot find name 'Attackable'.\n",
      "99:26 - Parameter 'aA' of accessor has or is using private name 'Attackable'.\n",
      "102:26 - Cannot find name 'Defendable'.\n",
      "102:26 - Parameter 'dA' of accessor has or is using private name 'Defendable'.\n",
      "115:1 - Unexpected token. A constructor, method, accessor, or property was expected.\n"
     ]
    }
   ],
   "source": [
    "//Define interfaces for Attack and Defense  \n",
    "interface Attack {\n",
    "    attack()void\n",
    "}\n",
    "\n",
    "interface Defend {\n",
    "    defense():void\n",
    "}\n",
    "\n",
    "\n",
    "class AttackWithSword implements Attackable{\n",
    "    attack(){\n",
    "        console.log(\"Fight with Sword\")\n",
    "    }\n",
    "}\n",
    "\n",
    "class AttackWithBowArrow implements Attackable{\n",
    "    attack(){\n",
    "        console.log(\"Fights with a Bow and Arrow\")\n",
    "    }\n",
    "}\n",
    "\n",
    "class AttackWithClub implements Attackable{\n",
    "    attack(){\n",
    "        console.log(\"Fights with a club\")\n",
    "    }\n",
    "}\n",
    "\n",
    "class DefendWithArmor implements Defendable{\n",
    "    defense(){\n",
    "        console.log(\"Fights with a shield\")\n",
    "    }\n",
    "}\n",
    "\n",
    "class DefendWithArmor implements Defendable{\n",
    "    defense(){\n",
    "        console.log(\"Defends with Armor\")\n",
    "    }\n",
    "}\n",
    "\n",
    "class DefendWithTunic implements Defendable{\n",
    "    defense(){\n",
    "        console.log(\"Defends with tunic\")\n",
    "    }\n",
    "}\n",
    "\n",
    "class Orges extends Chararcter {\n",
    "    attackAbilities$ = new AttackWithClub()\n",
    "    defendAbility$ = new DefendWithShield()\n",
    "    construdtor(gold$: number){\n",
    "        super(gold$)\n",
    "    }\n",
    "    get gold(): number{\n",
    "        return this.gold$ +1\n",
    "    }\n",
    "}\n",
    "\n",
    "class peons extends Character Character {\n",
    "    attackAbilities$ = new AttackWithClub()\n",
    "    defendAbility$ = new DefendWithShield()\n",
    "    constructor(gold$: number){\n",
    "        super(gold$)\n",
    "    }\n",
    "    get gold(): number {\n",
    "        return this.gold$ +5\n",
    "    }\n",
    "}\n",
    "\n",
    "class Knights extends Character {\n",
    "    attackAbilities$ = new AttackWithSword()\n",
    "    defendAbility$ = new DefendWithArmor()\n",
    "    constructor(gold$: number){\n",
    "        super(gold$)\n",
    "    }\n",
    "    get gold(): number{\n",
    "        return this.gold$ +3\n",
    "    }\n",
    "}\n",
    "\n",
    "class Archer extends Character {\n",
    "    attackAbilities$ = new AttackWithBowArrow()\n",
    "    defendAbility$ = new DefendWithTunic()\n",
    "    constructor(gold$: number){\n",
    "        super(gold$)\n",
    "    }\n",
    "    get gold(): number{\n",
    "        return this.gold$ +2\n",
    "    }\n",
    "}\n",
    "\n",
    "abstract class Character implements Attackable, Defendable {\n",
    "    protected attackAbility$: Attackable\n",
    "    protected defendAbility$: Defendable\n",
    "\n",
    "\n",
    "    constructor(protected gold$:number){}\n",
    "    get gold(){return this.gold$}\n",
    "    \n",
    "    set attackAbility(aA:Attackable){\n",
    "        this.attackAbility$=aA\n",
    "    }\n",
    "    set dependAbility(dA:Defendable){\n",
    "        this.defendAbility$=dA\n",
    "    }\n",
    "    \n",
    "    attack():void{\n",
    "        this.attackAbility$.attack()\n",
    "    }\n",
    "    \n",
    "    defend():void{\n",
    "        this.defendAbility$.defend()\n",
    "    }\n",
    "    \n"
   ]
  },
  {
   "cell_type": "code",
   "execution_count": 102,
   "metadata": {},
   "outputs": [
    {
     "name": "stderr",
     "output_type": "stream",
     "text": [
      "1:19 - Cannot find name 'Character'.\n",
      "1:19 - Exported variable 'allCharacters' has or is using private name 'Character'.\n",
      "2:5 - Type 'new () => Orges' cannot be used as an index type.\n",
      "2:9 - '(' expected.\n",
      "2:9 - Cannot find name 'Orges'.\n",
      "2:9 - Exported variable 'allCharacters' has or is using private name 'Orges'.\n",
      "2:14 - ']' expected.\n",
      "2:14 - Left side of comma operator is unused and has no side effects.\n",
      "3:9 - Cannot find name 'Peons'.\n",
      "4:9 - Cannot find name 'Knights'.\n",
      "5:9 - Cannot find name 'Archer'.\n",
      "6:1 - Declaration or statement expected.\n"
     ]
    }
   ],
   "source": [
    "let allCharacters:Character[][\n",
    "    new Orges(1),\n",
    "    new Peons(2),\n",
    "    new Knights(3),\n",
    "    new Archer(2)\n",
    "]\n",
    "\n",
    "for (let character of allCharacters){\n",
    "    console.log(`${character.gold}`)\n",
    "    character.attack()\n",
    "    character.defend()\n",
    "}\n"
   ]
  },
  {
   "cell_type": "code",
   "execution_count": null,
   "metadata": {},
   "outputs": [],
   "source": []
  },
  {
   "cell_type": "code",
   "execution_count": 104,
   "metadata": {},
   "outputs": [
    {
     "name": "stderr",
     "output_type": "stream",
     "text": [
      "41:9 - A 'set' accessor cannot have a return type annotation.\n",
      "51:9 - A 'set' accessor cannot have a return type annotation.\n",
      "123:6 - Property 'setAttackWeapon' does not exist on type 'Ogre'. Did you mean 'AttackWeapon'?\n",
      "130:8 - Property 'setAttackWeapon' does not exist on type 'Knight'. Did you mean 'AttackWeapon'?\n",
      "134:8 - Property 'setDefenseItem' does not exist on type 'Archer'. Did you mean 'DefenseItem'?\n"
     ]
    }
   ],
   "source": [
    "// Define interfaces for Attack and Defend mechanisms\n",
    "interface Attack {\n",
    "    attack(): void;\n",
    "}\n",
    "\n",
    "interface Defend {\n",
    "    defend(): void;\n",
    "}\n",
    "\n",
    "interface CollectGold {\n",
    "    collectGold(amount: number): void;\n",
    "}\n",
    "\n",
    "// Abstract class representing a Character\n",
    "abstract class Character implements Attack, Defend, CollectGold {\n",
    "    protected name: string;\n",
    "    protected gold: number;\n",
    "    protected attackWeapon: string | null;\n",
    "    protected defenseItem: string | null;\n",
    "\n",
    "    constructor(name: string, gold: number = 0) {\n",
    "        this.name = name;\n",
    "        this.gold = gold;\n",
    "        this.attackWeapon = null;\n",
    "        this.defenseItem = null;\n",
    "    }\n",
    "\n",
    "    abstract attack(): void;\n",
    "    abstract defend(): void;\n",
    "\n",
    "    collectGold(amount: number): void {\n",
    "        this.gold += amount;\n",
    "        console.log(`${this.name} collected ${amount} gold. Total gold: ${this.gold}`);\n",
    "    }\n",
    "\n",
    "    // Getter and Setter for attackWeapon\n",
    "    get AttackWeapon(): string | null {\n",
    "        return this.attackWeapon;\n",
    "    }\n",
    "\n",
    "    set AttackWeapon(newWeapon: string): void {\n",
    "        console.log(`${this.name} changes attack weapon to ${newWeapon}`);\n",
    "        this.attackWeapon = newWeapon;\n",
    "    }\n",
    "\n",
    "    // Getter and Setter for defenseItem\n",
    "    get DefenseItem(): string | null {\n",
    "        return this.defenseItem;\n",
    "    }\n",
    "\n",
    "    set DefenseItem(newItem: string): void {\n",
    "        console.log(`${this.name} changes defense item to ${newItem}`);\n",
    "        this.defenseItem = newItem;\n",
    "    }\n",
    "}\n",
    "\n",
    "// Concrete class for Ogres\n",
    "class Ogre extends Character {\n",
    "    constructor(name: string, gold: number = 0) {\n",
    "        super(name, gold);\n",
    "        this.attackWeapon = \"club\";\n",
    "        this.defenseItem = \"shield\";\n",
    "    }\n",
    "\n",
    "    attack(): void {\n",
    "        console.log(`${this.name} attacks with ${this.attackWeapon}`);\n",
    "    }\n",
    "\n",
    "    defend(): void {\n",
    "        console.log(`${this.name} defends with ${this.defenseItem}`);\n",
    "    }\n",
    "}\n",
    "\n",
    "// Concrete class for Peons\n",
    "class Peon extends Ogre {\n",
    "    // Peons have the same behavior as Ogres\n",
    "}\n",
    "\n",
    "// Concrete class for Knights\n",
    "class Knight extends Character {\n",
    "    constructor(name: string, gold: number = 0) {\n",
    "        super(name, gold);\n",
    "        this.attackWeapon = \"sword\";\n",
    "        this.defenseItem = \"armor\";\n",
    "    }\n",
    "\n",
    "    attack(): void {\n",
    "        console.log(`${this.name} attacks with ${this.attackWeapon}`);\n",
    "    }\n",
    "\n",
    "    defend(): void {\n",
    "        console.log(`${this.name} defends with ${this.defenseItem}`);\n",
    "    }\n",
    "}\n",
    "\n",
    "// Concrete class for Archers\n",
    "class Archer extends Character {\n",
    "    constructor(name: string, gold: number = 0) {\n",
    "        super(name, gold);\n",
    "        this.attackWeapon = \"bow and arrow\";\n",
    "        this.defenseItem = \"tunic\";\n",
    "    }\n",
    "\n",
    "    attack(): void {\n",
    "        console.log(`${this.name} attacks with ${this.attackWeapon}`);\n",
    "    }\n",
    "\n",
    "    defend(): void {\n",
    "        console.log(`${this.name} defends with ${this.defenseItem}`);\n",
    "    }\n",
    "}\n",
    "\n",
    "// Example usage:\n",
    "\n",
    "const ogre = new Ogre(\"Ogre1\");\n",
    "const peon = new Peon(\"Peon1\");\n",
    "const knight = new Knight(\"Knight1\");\n",
    "const archer = new Archer(\"Archer1\");\n",
    "\n",
    "ogre.attack();\n",
    "ogre.defend();\n",
    "ogre.collectGold(10);\n",
    "ogre.setAttackWeapon(\"spiked club\");\n",
    "ogre.attack();\n",
    "\n",
    "peon.collectGold(5);\n",
    "peon.attack();\n",
    "\n",
    "knight.defend();\n",
    "knight.setAttackWeapon(\"club\");\n",
    "knight.attack();\n",
    "\n",
    "archer.collectGold(5);\n",
    "archer.setDefenseItem(\"enchanted armor\");\n",
    "archer.defend();"
   ]
  },
  {
   "cell_type": "code",
   "execution_count": null,
   "metadata": {},
   "outputs": [],
   "source": [
    "attack():void{\n",
    "    this.attackAbility$.attack()\n",
    "}\n",
    "\n",
    "defense(){\n",
    "    this.defenseAbility$.defense()\n",
    "} \n",
    "\n",
    "class Armor implements Defendable\n",
    "    defense(){\n",
    "        console.log(\"Defense with Armor\")\n",
    "    }\n",
    "\n",
    "class Tunic implements Defendable\n",
    "    defense(){\n",
    "        console.log(\"Defense with Tunic\")\n",
    "    }\n",
    "\n",
    "abstract class Character implements Attackable, Defendable {\n",
    "    protected attackAbility$: Attackable\n",
    "    protected defendAbility$: Defendable\n",
    "\n",
    "    constructor(protected name$:string, protected gold$:number){}\n",
    "    get name(){return this.name$}\n",
    "    get gold(){return this.gold$} \n",
    "    \n",
    "    set attackAbility(aa:Attackable){\n",
    "        this.defendAbility$=aa\n",
    "    }\n",
    "    \n",
    "    set dependAbility(da:defendable){\n",
    "        this.defendAbility$=da\n",
    "    }\n",
    "    \n",
    "    attack():void{\n",
    "        this.defendAbility$.defense()\n",
    "    }\n",
    "}\n",
    "    \n",
    "    \n",
    "\n",
    "\n",
    "\n",
    "\n",
    "// Ogres, Peans, Knights, Archers\n",
    "class Ogres extends Character{\n",
    "    attackAbility$ = new Club()\n",
    "    defendAbility$ = new Shield()\n",
    "}\n",
    "class Peons extends Character{\n",
    "    attackAbility$ = new Club()\n",
    "    defendAbility$ = new Shield()\n",
    "}\n",
    "\n",
    "class Knights extends Character{\n",
    "    attackAbility$ = new Club()\n",
    "    defendAbility$ = new Shield()\n",
    "}\n",
    "\n",
    "class Archers extends Character{\n",
    "    attackAbility$ = new Sword()\n",
    "    defendAbility$ = new Armor()\n",
    "}\n"
   ]
  },
  {
   "cell_type": "code",
   "execution_count": null,
   "metadata": {},
   "outputs": [],
   "source": [
    "let allCharacters:Character[]=[\n",
    "    new Ogres(\"Draenor\", 30),\n",
    "    new Peons(\"Laborers\", 20),\n",
    "    new Knights(\"Death Knight\", 25)\n",
    "    new Archers(\"Blood Eleven Archer\", 15)\n",
    "]\n",
    "\n",
    "for (let character of allCharacters){\n",
    "    console.log(`${character.name} makes ${character.gold} gold per kill.`)\n",
    "    character.attack()\n",
    "    character.defense()\n",
    "}"
   ]
  }
 ],
 "metadata": {
  "kernelspec": {
   "display_name": "TypeScript",
   "language": "typescript",
   "name": "tslab"
  },
  "language_info": {
   "codemirror_mode": {
    "mode": "typescript",
    "name": "javascript",
    "typescript": true
   },
   "file_extension": ".ts",
   "mimetype": "text/typescript",
   "name": "typescript",
   "version": "3.7.2"
  }
 },
 "nbformat": 4,
 "nbformat_minor": 5
}
